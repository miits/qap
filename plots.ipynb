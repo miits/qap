{
 "cells": [
  {
   "cell_type": "code",
   "execution_count": 59,
   "metadata": {
    "collapsed": true
   },
   "outputs": [],
   "source": [
    "import os\n",
    "import pandas as pd\n",
    "import matplotlib.pyplot as plt\n"
   ]
  },
  {
   "cell_type": "code",
   "execution_count": 60,
   "metadata": {
    "collapsed": true
   },
   "outputs": [],
   "source": [
    "WORK_DIR = 'result'\n",
    "STEEPEST = 'steepest.csv'\n",
    "GREEDY = 'greedy.csv'\n",
    "HEURISTIC = 'heuristic.csv'\n",
    "RANDOM = 'random.csv'"
   ]
  },
  {
   "cell_type": "code",
   "execution_count": 97,
   "metadata": {
    "collapsed": true
   },
   "outputs": [],
   "source": [
    "def column_plot(column, df, path):\n",
    "    mean = df.groupby(by = ['algorithm'])[column].describe()['mean']\n",
    "    std = df.groupby(by = ['algorithm'])[column].describe()['std']\n",
    "    best =  df.groupby(by = ['algorithm'])[column].describe()['min']\n",
    "    f = mean.plot.bar(yerr=std, figsize = (10,10), title = column)\n",
    "    best.plot.line(ax = f,  style = 'bo')\n",
    "    plt.savefig(os.path.join(path, column + '_by_algorithm.png'))\n",
    "    plt.cla()\n",
    "    \n",
    "def quality_plot(df, path):\n",
    "    df['startQuality'] =  df['firstSolutionCost'] - df['optimalSolutionCost']\n",
    "    df['finalQuality'] =  df['cost'] - df['optimalSolutionCost']\n",
    "    \n",
    "    for alg, alg_df in df.groupby(by = ['algorithm']):\n",
    "        alg_df.plot.scatter('startQuality', 'finalQuality', figsize = (10,10), title = alg)\n",
    "        plt.savefig(os.path.join(path, 'quality' + '_by_' + alg +'.png'))\n",
    "        plt.cla()\n",
    "\n",
    "def join_df(instance_dir, sample_size = 10):\n",
    "    random_df = pd.read_csv(os.path.join(instance_dir, RANDOM), quotechar = \"'\").sample(sample_size)\n",
    "    random_df['algorithm'] = 'random'\n",
    "    greedy_df = pd.read_csv(os.path.join(instance_dir, GREEDY), quotechar = \"'\").sample(sample_size)\n",
    "    greedy_df['algorithm'] = 'greedy'\n",
    "    heuristic_df = pd.read_csv(os.path.join(instance_dir, HEURISTIC), quotechar = \"'\").sample(sample_size)\n",
    "    heuristic_df['algorithm'] = 'heuristic'\n",
    "    steepest_df = pd.read_csv(os.path.join(instance_dir, STEEPEST), quotechar = \"'\").sample(sample_size)\n",
    "    steepest_df['algorithm'] = 'steepest'\n",
    "    all_df = pd.concat([random_df, greedy_df, heuristic_df, steepest_df])\n",
    "    return all_df\n",
    "    \n",
    "def make_plots(instance_dir):\n",
    "    path = os.path.join(instance_dir, \"plots\")\n",
    "    if not os.path.isdir(path):\n",
    "        os.mkdir(path)\n",
    "    sample_df = join_df(instance_dir, sample_size = 10)\n",
    "    sample_df['efficiency'] =  sample_df['cost'] / sample_df['timeMillis']\n",
    "    sample_df['quality'] = sample_df['cost'] - sample_df['optimalSolutionCost']\n",
    "    column_plot('stepsCount', sample_df, path)\n",
    "    column_plot('solutionsChecked', sample_df, path)\n",
    "    column_plot('quality', sample_df, path)\n",
    "    column_plot('efficiency', sample_df, path)\n",
    "    all_df = join_df(instance_dir, sample_size = 200)\n",
    "    quality_plot(all_df, path)\n",
    "\n",
    "    \n",
    "    \n",
    "    "
   ]
  },
  {
   "cell_type": "code",
   "execution_count": 98,
   "metadata": {},
   "outputs": [
    {
     "name": "stdout",
     "output_type": "stream",
     "text": [
      "result\\bur26b\n"
     ]
    },
    {
     "name": "stderr",
     "output_type": "stream",
     "text": [
      "C:\\Users\\echomil\\Anaconda3\\lib\\site-packages\\matplotlib\\pyplot.py:524: RuntimeWarning: More than 20 figures have been opened. Figures created through the pyplot interface (`matplotlib.pyplot.figure`) are retained until explicitly closed and may consume too much memory. (To control this warning, see the rcParam `figure.max_open_warning`).\n",
      "  max_open_warning, RuntimeWarning)\n"
     ]
    },
    {
     "name": "stdout",
     "output_type": "stream",
     "text": [
      "result\\bur26e\n",
      "result\\bur26g\n",
      "result\\nug28\n",
      "result\\tail20a\n",
      "result\\tail2a\n",
      "result\\tail5a\n",
      "result\\tail7a\n"
     ]
    }
   ],
   "source": [
    "for dir in os.listdir(WORK_DIR):\n",
    "    instance_dir = os.path.join(WORK_DIR, dir)\n",
    "    print(instance_dir)\n",
    "    make_plots(instance_dir)"
   ]
  },
  {
   "cell_type": "code",
   "execution_count": 72,
   "metadata": {},
   "outputs": [],
   "source": [
    "df = join_df('result\\\\bur26b')"
   ]
  },
  {
   "cell_type": "code",
   "execution_count": 94,
   "metadata": {},
   "outputs": [
    {
     "name": "stdout",
     "output_type": "stream",
     "text": [
      "     timeMillis  stepsCount  solutionsChecked       cost  \\\n",
      "185         872         112              7646  3833587.0   \n",
      "6           428         100              4926  3828036.0   \n",
      "91          557          94              5494  3841599.0   \n",
      "165         663         131              7785  3827812.0   \n",
      "67          339          84              3986  3830626.0   \n",
      "\n",
      "                                              solution  optimalSolutionCost  \\\n",
      "185  [23, 22, 18, 13, 14, 17, 25, 11, 8, 26, 20, 19...            3817852.0   \n",
      "6    [12, 11, 2, 6, 8, 3, 1, 16, 4, 7, 18, 9, 14, 1...            3817852.0   \n",
      "91   [25, 4, 1, 22, 16, 2, 26, 6, 12, 14, 9, 3, 5, ...            3817852.0   \n",
      "165  [1, 4, 10, 8, 11, 13, 12, 6, 2, 18, 5, 7, 9, 2...            3817852.0   \n",
      "67   [11, 15, 4, 2, 8, 12, 6, 13, 26, 18, 9, 5, 20,...            3817852.0   \n",
      "\n",
      "                                       optimalSolution  firstSolutionCost  \\\n",
      "185  [17, 11, 26, 7, 4, 14, 6, 22, 23, 18, 5, 9, 1,...          4223808.0   \n",
      "6    [17, 11, 26, 7, 4, 14, 6, 22, 23, 18, 5, 9, 1,...          4153608.0   \n",
      "91   [17, 11, 26, 7, 4, 14, 6, 22, 23, 18, 5, 9, 1,...          4205072.0   \n",
      "165  [17, 11, 26, 7, 4, 14, 6, 22, 23, 18, 5, 9, 1,...          4140637.0   \n",
      "67   [17, 11, 26, 7, 4, 14, 6, 22, 23, 18, 5, 9, 1,...          4265537.0   \n",
      "\n",
      "                                         firstSolution algorithm  \\\n",
      "185  [22, 12, 18, 3, 14, 2, 7, 25, 24, 9, 20, 6, 17...    greedy   \n",
      "6    [2, 12, 18, 19, 9, 17, 4, 24, 3, 7, 20, 25, 14...    greedy   \n",
      "91   [11, 21, 7, 1, 14, 20, 16, 23, 15, 8, 10, 18, ...    greedy   \n",
      "165  [13, 12, 8, 21, 16, 3, 14, 24, 18, 19, 15, 22,...    greedy   \n",
      "67   [19, 9, 15, 10, 14, 25, 8, 23, 20, 17, 6, 5, 1...    greedy   \n",
      "\n",
      "     startQuality  finalQuality  \n",
      "185      405956.0       15735.0  \n",
      "6        335756.0       10184.0  \n",
      "91       387220.0       23747.0  \n",
      "165      322785.0        9960.0  \n",
      "67       447685.0       12774.0  \n",
      "     timeMillis  stepsCount  solutionsChecked       cost  \\\n",
      "60          515         111              6053  3825796.0   \n",
      "36          485         102              5708  3825892.0   \n",
      "165         663         131              7785  3827812.0   \n",
      "6           428         100              4926  3828036.0   \n",
      "177        1102         136             10137  3830034.0   \n",
      "\n",
      "                                              solution  optimalSolutionCost  \\\n",
      "60   [22, 26, 11, 13, 12, 1, 24, 21, 16, 4, 20, 19,...            3817852.0   \n",
      "36   [10, 6, 12, 22, 8, 16, 25, 26, 15, 1, 9, 19, 1...            3817852.0   \n",
      "165  [1, 4, 10, 8, 11, 13, 12, 6, 2, 18, 5, 7, 9, 2...            3817852.0   \n",
      "6    [12, 11, 2, 6, 8, 3, 1, 16, 4, 7, 18, 9, 14, 1...            3817852.0   \n",
      "177  [26, 13, 23, 11, 8, 3, 7, 15, 4, 1, 19, 14, 18...            3817852.0   \n",
      "\n",
      "                                       optimalSolution  firstSolutionCost  \\\n",
      "60   [17, 11, 26, 7, 4, 14, 6, 22, 23, 18, 5, 9, 1,...          4277524.0   \n",
      "36   [17, 11, 26, 7, 4, 14, 6, 22, 23, 18, 5, 9, 1,...          4268200.0   \n",
      "165  [17, 11, 26, 7, 4, 14, 6, 22, 23, 18, 5, 9, 1,...          4140637.0   \n",
      "6    [17, 11, 26, 7, 4, 14, 6, 22, 23, 18, 5, 9, 1,...          4153608.0   \n",
      "177  [17, 11, 26, 7, 4, 14, 6, 22, 23, 18, 5, 9, 1,...          4095881.0   \n",
      "\n",
      "                                         firstSolution algorithm  \\\n",
      "60   [22, 23, 1, 7, 15, 16, 17, 14, 26, 4, 13, 24, ...    greedy   \n",
      "36   [9, 7, 21, 15, 6, 8, 19, 23, 13, 4, 24, 18, 11...    greedy   \n",
      "165  [13, 12, 8, 21, 16, 3, 14, 24, 18, 19, 15, 22,...    greedy   \n",
      "6    [2, 12, 18, 19, 9, 17, 4, 24, 3, 7, 20, 25, 14...    greedy   \n",
      "177  [8, 21, 16, 23, 19, 9, 17, 2, 18, 3, 5, 24, 13...    greedy   \n",
      "\n",
      "     startQuality  finalQuality  \n",
      "60       459672.0        7944.0  \n",
      "36       450348.0        8040.0  \n",
      "165      322785.0        9960.0  \n",
      "6        335756.0       10184.0  \n",
      "177      278029.0       12182.0  \n"
     ]
    }
   ],
   "source": [
    "    df['startQuality'] =  df['firstSolutionCost'] - df['optimalSolutionCost']\n",
    "    df['finalQuality'] =  df['cost'] - df['optimalSolutionCost']\n",
    "    \n",
    "    for alg, alg_df in df.groupby(by = ['algorithm']):\n",
    "        print(alg_df.head())\n",
    "        alg_df = alg_df.sort_values(by = 'finalQuality')\n",
    "        print(alg_df.head())\n",
    "        break\n",
    "#         alg_df.plot.scatter('startQuality', 'finalQuality', figsize = (10,10), title = alg)\n",
    "#       plt.savefig(os.path.join(path, 'quality' + '_by_' + alg +'.png'))\n",
    "#         plt.cla()"
   ]
  },
  {
   "cell_type": "code",
   "execution_count": 55,
   "metadata": {},
   "outputs": [
    {
     "data": {
      "text/html": [
       "<div>\n",
       "<style scoped>\n",
       "    .dataframe tbody tr th:only-of-type {\n",
       "        vertical-align: middle;\n",
       "    }\n",
       "\n",
       "    .dataframe tbody tr th {\n",
       "        vertical-align: top;\n",
       "    }\n",
       "\n",
       "    .dataframe thead th {\n",
       "        text-align: right;\n",
       "    }\n",
       "</style>\n",
       "<table border=\"1\" class=\"dataframe\">\n",
       "  <thead>\n",
       "    <tr style=\"text-align: right;\">\n",
       "      <th></th>\n",
       "      <th>timeMillis</th>\n",
       "      <th>stepsCount</th>\n",
       "      <th>solutionsChecked</th>\n",
       "      <th>cost</th>\n",
       "      <th>solution</th>\n",
       "      <th>optimalSolutionCost</th>\n",
       "      <th>optimalSolution</th>\n",
       "      <th>algorithm</th>\n",
       "      <th>quality</th>\n",
       "    </tr>\n",
       "  </thead>\n",
       "  <tbody>\n",
       "    <tr>\n",
       "      <th>0</th>\n",
       "      <td>310</td>\n",
       "      <td>3370</td>\n",
       "      <td>3370</td>\n",
       "      <td>3933839.0</td>\n",
       "      <td>[10, 6, 11, 14, 8, 23, 1, 13, 26, 15, 20, 2, 1...</td>\n",
       "      <td>3817852.0</td>\n",
       "      <td>[17, 11, 26, 7, 4, 14, 6, 22, 23, 18, 5, 9, 1,...</td>\n",
       "      <td>random</td>\n",
       "      <td>12689.803226</td>\n",
       "    </tr>\n",
       "    <tr>\n",
       "      <th>1</th>\n",
       "      <td>310</td>\n",
       "      <td>3175</td>\n",
       "      <td>3175</td>\n",
       "      <td>3930530.0</td>\n",
       "      <td>[18, 12, 6, 11, 26, 8, 4, 7, 15, 1, 19, 20, 17...</td>\n",
       "      <td>3817852.0</td>\n",
       "      <td>[17, 11, 26, 7, 4, 14, 6, 22, 23, 18, 5, 9, 1,...</td>\n",
       "      <td>random</td>\n",
       "      <td>12679.129032</td>\n",
       "    </tr>\n",
       "    <tr>\n",
       "      <th>2</th>\n",
       "      <td>310</td>\n",
       "      <td>3384</td>\n",
       "      <td>3384</td>\n",
       "      <td>3956913.0</td>\n",
       "      <td>[11, 23, 16, 4, 13, 3, 17, 24, 12, 21, 20, 6, ...</td>\n",
       "      <td>3817852.0</td>\n",
       "      <td>[17, 11, 26, 7, 4, 14, 6, 22, 23, 18, 5, 9, 1,...</td>\n",
       "      <td>random</td>\n",
       "      <td>12764.235484</td>\n",
       "    </tr>\n",
       "    <tr>\n",
       "      <th>3</th>\n",
       "      <td>310</td>\n",
       "      <td>3356</td>\n",
       "      <td>3356</td>\n",
       "      <td>3929602.0</td>\n",
       "      <td>[25, 11, 2, 13, 10, 26, 16, 8, 1, 19, 14, 18, ...</td>\n",
       "      <td>3817852.0</td>\n",
       "      <td>[17, 11, 26, 7, 4, 14, 6, 22, 23, 18, 5, 9, 1,...</td>\n",
       "      <td>random</td>\n",
       "      <td>12676.135484</td>\n",
       "    </tr>\n",
       "    <tr>\n",
       "      <th>4</th>\n",
       "      <td>310</td>\n",
       "      <td>3431</td>\n",
       "      <td>3431</td>\n",
       "      <td>3954514.0</td>\n",
       "      <td>[21, 24, 22, 7, 12, 20, 3, 1, 15, 10, 6, 11, 9...</td>\n",
       "      <td>3817852.0</td>\n",
       "      <td>[17, 11, 26, 7, 4, 14, 6, 22, 23, 18, 5, 9, 1,...</td>\n",
       "      <td>random</td>\n",
       "      <td>12756.496774</td>\n",
       "    </tr>\n",
       "  </tbody>\n",
       "</table>\n",
       "</div>"
      ],
      "text/plain": [
       "   timeMillis  stepsCount  solutionsChecked       cost  \\\n",
       "0         310        3370              3370  3933839.0   \n",
       "1         310        3175              3175  3930530.0   \n",
       "2         310        3384              3384  3956913.0   \n",
       "3         310        3356              3356  3929602.0   \n",
       "4         310        3431              3431  3954514.0   \n",
       "\n",
       "                                            solution  optimalSolutionCost  \\\n",
       "0  [10, 6, 11, 14, 8, 23, 1, 13, 26, 15, 20, 2, 1...            3817852.0   \n",
       "1  [18, 12, 6, 11, 26, 8, 4, 7, 15, 1, 19, 20, 17...            3817852.0   \n",
       "2  [11, 23, 16, 4, 13, 3, 17, 24, 12, 21, 20, 6, ...            3817852.0   \n",
       "3  [25, 11, 2, 13, 10, 26, 16, 8, 1, 19, 14, 18, ...            3817852.0   \n",
       "4  [21, 24, 22, 7, 12, 20, 3, 1, 15, 10, 6, 11, 9...            3817852.0   \n",
       "\n",
       "                                     optimalSolution algorithm       quality  \n",
       "0  [17, 11, 26, 7, 4, 14, 6, 22, 23, 18, 5, 9, 1,...    random  12689.803226  \n",
       "1  [17, 11, 26, 7, 4, 14, 6, 22, 23, 18, 5, 9, 1,...    random  12679.129032  \n",
       "2  [17, 11, 26, 7, 4, 14, 6, 22, 23, 18, 5, 9, 1,...    random  12764.235484  \n",
       "3  [17, 11, 26, 7, 4, 14, 6, 22, 23, 18, 5, 9, 1,...    random  12676.135484  \n",
       "4  [17, 11, 26, 7, 4, 14, 6, 22, 23, 18, 5, 9, 1,...    random  12756.496774  "
      ]
     },
     "execution_count": 55,
     "metadata": {},
     "output_type": "execute_result"
    }
   ],
   "source": [
    "df.head()"
   ]
  }
 ],
 "metadata": {
  "kernelspec": {
   "display_name": "Python [conda root]",
   "language": "python",
   "name": "conda-root-py"
  },
  "language_info": {
   "codemirror_mode": {
    "name": "ipython",
    "version": 3
   },
   "file_extension": ".py",
   "mimetype": "text/x-python",
   "name": "python",
   "nbconvert_exporter": "python",
   "pygments_lexer": "ipython3",
   "version": "3.5.3"
  }
 },
 "nbformat": 4,
 "nbformat_minor": 2
}
