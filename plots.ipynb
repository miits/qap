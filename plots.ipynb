{
 "cells": [
  {
   "cell_type": "code",
   "execution_count": 59,
   "metadata": {
    "collapsed": true
   },
   "outputs": [],
   "source": [
    "import os\n",
    "import pandas as pd\n",
    "import matplotlib.pyplot as plt\n"
   ]
  },
  {
   "cell_type": "code",
   "execution_count": 60,
   "metadata": {
    "collapsed": true
   },
   "outputs": [],
   "source": [
    "WORK_DIR = 'result'\n",
    "STEEPEST = 'steepest.csv'\n",
    "GREEDY = 'greedy.csv'\n",
    "HEURISTIC = 'heuristic.csv'\n",
    "RANDOM = 'random.csv'"
   ]
  },
  {
   "cell_type": "code",
   "execution_count": 129,
   "metadata": {},
   "outputs": [],
   "source": [
    "def column_plot(column, df, path):\n",
    "    mean = df.groupby(by = ['algorithm'])[column].describe()['mean']\n",
    "    std = df.groupby(by = ['algorithm'])[column].describe()['std']\n",
    "    best =  df.groupby(by = ['algorithm'])[column].describe()['min']\n",
    "    f = mean.plot.bar(yerr=std, figsize = (10,10), title = column)\n",
    "    best.plot.line(ax = f,  style = 'bo')\n",
    "    plt.savefig(os.path.join(path, column + '_by_algorithm.png'))\n",
    "    plt.cla()\n",
    "    \n",
    "def quality_plot(df, path):\n",
    "    df['startQuality'] =  df['firstSolutionCost'] - df['optimalSolutionCost']\n",
    "    df['finalQuality'] =  df['cost'] - df['optimalSolutionCost']\n",
    "    \n",
    "    for alg, alg_df in df.groupby(by = ['algorithm']):\n",
    "        alg_df.plot.scatter('startQuality', 'finalQuality', figsize = (10,10), title = alg)\n",
    "        plt.savefig(os.path.join(path, 'quality' + '_by_' + alg +'.png'))\n",
    "        plt.cla()\n",
    "        \n",
    "def reruns_plot(df, path):\n",
    "    df['quality'] = df['cost'] - df['optimalSolutionCost']\n",
    "    for alg, alg_df in df.groupby(by = ['algorithm']):\n",
    "        min_r = []\n",
    "        mean_r = []\n",
    "        for i in range(0, len(alg_df)):\n",
    "            min_r.append(alg_df['quality'][0:i+1].min())\n",
    "            mean_r.append(alg_df['quality'][0:i+1].mean())\n",
    "        d = {'min': pd.Series(min_r), 'mean' : pd.Series(mean_r)}\n",
    "        d = pd.DataFrame(d)\n",
    "        d[['min', 'mean']].plot(title = alg)\n",
    "        plt.savefig(os.path.join(path, 'rerun' + '_by_' + alg +'.png'))\n",
    "        plt.cla()\n",
    "\n",
    "def join_df(instance_dir, sample_size = 10):\n",
    "    random_df = pd.read_csv(os.path.join(instance_dir, RANDOM), quotechar = \"'\").sample(sample_size)\n",
    "    random_df['algorithm'] = 'random'\n",
    "    greedy_df = pd.read_csv(os.path.join(instance_dir, GREEDY), quotechar = \"'\").sample(sample_size)\n",
    "    greedy_df['algorithm'] = 'greedy'\n",
    "    heuristic_df = pd.read_csv(os.path.join(instance_dir, HEURISTIC), quotechar = \"'\").sample(sample_size)\n",
    "    heuristic_df['algorithm'] = 'heuristic'\n",
    "    steepest_df = pd.read_csv(os.path.join(instance_dir, STEEPEST), quotechar = \"'\").sample(sample_size)\n",
    "    steepest_df['algorithm'] = 'steepest'\n",
    "    all_df = pd.concat([random_df, greedy_df, heuristic_df, steepest_df])\n",
    "    return all_df\n",
    "    \n",
    "def make_plots(instance_dir):\n",
    "    path = os.path.join(instance_dir, \"plots\")\n",
    "    if not os.path.isdir(path):\n",
    "        os.mkdir(path)\n",
    "    sample_df = join_df(instance_dir, sample_size = 10)\n",
    "    sample_df['efficiency'] =  sample_df['cost'] / sample_df['timeMillis']\n",
    "    sample_df['quality'] = sample_df['cost'] - sample_df['optimalSolutionCost']\n",
    "    column_plot('stepsCount', sample_df, path)\n",
    "    column_plot('solutionsChecked', sample_df, path)\n",
    "    column_plot('quality', sample_df, path)\n",
    "    column_plot('efficiency', sample_df, path)\n",
    "    sample_df = join_df(instance_dir, sample_size = 200)\n",
    "    quality_plot(sample_df, path)\n",
    "    all_df = join_df(instance_dir, sample_size = 500)\n",
    "    reruns_plot(all_df, path)\n",
    "    \n",
    "    \n",
    "    "
   ]
  },
  {
   "cell_type": "code",
   "execution_count": 130,
   "metadata": {},
   "outputs": [
    {
     "name": "stdout",
     "output_type": "stream",
     "text": [
      "result\\bur26b\n"
     ]
    },
    {
     "name": "stderr",
     "output_type": "stream",
     "text": [
      "C:\\Users\\echomil\\Anaconda3\\lib\\site-packages\\matplotlib\\pyplot.py:524: RuntimeWarning: More than 20 figures have been opened. Figures created through the pyplot interface (`matplotlib.pyplot.figure`) are retained until explicitly closed and may consume too much memory. (To control this warning, see the rcParam `figure.max_open_warning`).\n",
      "  max_open_warning, RuntimeWarning)\n"
     ]
    },
    {
     "name": "stdout",
     "output_type": "stream",
     "text": [
      "result\\bur26e\n",
      "result\\bur26g\n",
      "result\\nug28\n",
      "result\\tail20a\n",
      "result\\tail2a\n",
      "result\\tail5a\n",
      "result\\tail7a\n"
     ]
    }
   ],
   "source": [
    "for dir in os.listdir(WORK_DIR):\n",
    "    instance_dir = os.path.join(WORK_DIR, dir)\n",
    "    print(instance_dir)\n",
    "    make_plots(instance_dir)"
   ]
  },
  {
   "cell_type": "code",
   "execution_count": 114,
   "metadata": {
    "collapsed": true
   },
   "outputs": [],
   "source": [
    "df = join_df('result\\\\bur26b', sample_size = 500)"
   ]
  },
  {
   "cell_type": "code",
   "execution_count": 126,
   "metadata": {},
   "outputs": [
    {
     "name": "stdout",
     "output_type": "stream",
     "text": [
      "2000\n",
      "         min          mean\n",
      "0    18221.0  18221.000000\n",
      "1     7919.0  13070.000000\n",
      "2     7919.0  12778.666667\n",
      "3     7919.0  12118.500000\n",
      "4     7919.0  13807.000000\n",
      "5     7919.0  13106.500000\n",
      "6     7919.0  13722.285714\n",
      "7     7919.0  13656.000000\n",
      "8     7919.0  14222.333333\n",
      "9     7919.0  15089.700000\n",
      "10    7919.0  14852.090909\n",
      "11    7919.0  15276.500000\n",
      "12    7407.0  14671.153846\n",
      "13    7407.0  14190.642857\n",
      "14    7407.0  13800.133333\n",
      "15     189.0  12949.437500\n",
      "16     189.0  13592.823529\n",
      "17     189.0  13679.500000\n",
      "18     189.0  13719.421053\n",
      "19     189.0  13608.050000\n",
      "20     189.0  13845.047619\n",
      "21     189.0  13595.090909\n",
      "22     189.0  14048.869565\n",
      "23     189.0  13793.916667\n",
      "24     189.0  13785.520000\n",
      "25     189.0  14253.846154\n",
      "26     189.0  14083.074074\n",
      "27     189.0  14391.035714\n",
      "28     189.0  14562.689655\n",
      "29     189.0  14752.800000\n",
      "..       ...           ...\n",
      "470      0.0  16663.968153\n",
      "471      0.0  16671.879237\n",
      "472      0.0  16653.109937\n",
      "473      0.0  16634.654008\n",
      "474      0.0  16647.301053\n",
      "475      0.0  16629.575630\n",
      "476      0.0  16615.310273\n",
      "477      0.0  16636.813808\n",
      "478      0.0  16669.048017\n",
      "479      0.0  16687.835417\n",
      "480      0.0  16694.833680\n",
      "481      0.0  16683.481328\n",
      "482      0.0  16665.875776\n",
      "483      0.0  16687.948347\n",
      "484      0.0  16676.952577\n",
      "485      0.0  16676.072016\n",
      "486      0.0  16687.794661\n",
      "487      0.0  16697.194672\n",
      "488      0.0  16703.709611\n",
      "489      0.0  16689.671429\n",
      "490      0.0  16691.152749\n",
      "491      0.0  16671.617886\n",
      "492      0.0  16687.941176\n",
      "493      0.0  16680.560729\n",
      "494      0.0  16689.935354\n",
      "495      0.0  16674.417339\n",
      "496      0.0  16663.114688\n",
      "497      0.0  16664.343373\n",
      "498      0.0  16685.727455\n",
      "499      0.0  16695.384000\n",
      "\n",
      "[500 rows x 2 columns]\n"
     ]
    }
   ],
   "source": [
    "df['quality'] = df['cost'] - df['optimalSolutionCost']\n",
    "print(len(df))\n",
    "for alg, alg_df in df.groupby(by = ['algorithm']):\n",
    "    min_r = []\n",
    "    mean_r = []\n",
    "    for i in range(0, len(alg_df)):\n",
    "        min_r.append(alg_df['quality'][0:i+1].min())\n",
    "        mean_r.append(alg_df['quality'][0:i+1].mean())\n",
    "    d = {'min': pd.Series(min_r), 'mean' : pd.Series(mean_r)}\n",
    "    d = pd.DataFrame(d)\n",
    "    print( d[['min', 'mean']])\n",
    "    break"
   ]
  },
  {
   "cell_type": "code",
   "execution_count": null,
   "metadata": {
    "collapsed": true
   },
   "outputs": [],
   "source": []
  }
 ],
 "metadata": {
  "kernelspec": {
   "display_name": "Python [conda root]",
   "language": "python",
   "name": "conda-root-py"
  },
  "language_info": {
   "codemirror_mode": {
    "name": "ipython",
    "version": 3
   },
   "file_extension": ".py",
   "mimetype": "text/x-python",
   "name": "python",
   "nbconvert_exporter": "python",
   "pygments_lexer": "ipython3",
   "version": "3.5.3"
  }
 },
 "nbformat": 4,
 "nbformat_minor": 2
}
