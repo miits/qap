{
 "cells": [
  {
   "cell_type": "code",
   "execution_count": 5,
   "metadata": {
    "collapsed": true
   },
   "outputs": [],
   "source": [
    "import os\n",
    "import pandas as pd\n",
    "import matplotlib.pyplot as plt\n"
   ]
  },
  {
   "cell_type": "code",
   "execution_count": 6,
   "metadata": {
    "collapsed": true
   },
   "outputs": [],
   "source": [
    "WORK_DIR = 'result'\n",
    "STEEPEST = 'steepest.csv'\n",
    "GREEDY = 'greedy.csv'\n",
    "HEURISTIC = 'heuristic.csv'\n",
    "RANDOM = 'random.csv'"
   ]
  },
  {
   "cell_type": "code",
   "execution_count": 7,
   "metadata": {
    "collapsed": true
   },
   "outputs": [],
   "source": [
    "def column_plot(column, df, path):\n",
    "\n",
    "    df.boxplot(column=column, by='algorithm', figsize =(8,8))\n",
    "    plt.savefig(os.path.join(path, column + '_by_algorithm.png'))\n",
    "    plt.cla()\n",
    "    \n",
    "def join_df(instance_dir):\n",
    "    random_df = pd.read_csv(os.path.join(instance_dir, RANDOM), quotechar = \"'\")\n",
    "    random_df['algorithm'] = 'random'\n",
    "    greedy_df = pd.read_csv(os.path.join(instance_dir, GREEDY), quotechar = \"'\")\n",
    "    greedy_df['algorithm'] = 'greedy'\n",
    "    heuristic_df = pd.read_csv(os.path.join(instance_dir, HEURISTIC), quotechar = \"'\")\n",
    "    heuristic_df['algorithm'] = 'heuristic'\n",
    "    steepest_df = pd.read_csv(os.path.join(instance_dir, STEEPEST), quotechar = \"'\")\n",
    "    steepest_df['algorithm'] = 'steepest'\n",
    "    all_df = pd.concat([random_df, greedy_df, heuristic_df, steepest_df])\n",
    "    return all_df\n",
    "    \n",
    "def make_plots(instance_dir):\n",
    "    path = os.path.join(instance_dir, \"plots\")\n",
    "    if not os.path.isdir(path):\n",
    "        os.mkdir(path)\n",
    "    all_df = join_df(instance_dir)\n",
    "    column_plot('stepsCount', all_df, path)\n",
    "    column_plot('timeMillis', all_df, path)\n",
    "    column_plot('solutionsChecked', all_df, path)\n",
    "    column_plot('cost', all_df, path)\n",
    "\n",
    "    \n",
    "    \n",
    "    "
   ]
  },
  {
   "cell_type": "code",
   "execution_count": 8,
   "metadata": {},
   "outputs": [
    {
     "name": "stderr",
     "output_type": "stream",
     "text": [
      "C:\\Users\\echomil\\Anaconda3\\lib\\site-packages\\matplotlib\\pyplot.py:524: RuntimeWarning: More than 20 figures have been opened. Figures created through the pyplot interface (`matplotlib.pyplot.figure`) are retained until explicitly closed and may consume too much memory. (To control this warning, see the rcParam `figure.max_open_warning`).\n",
      "  max_open_warning, RuntimeWarning)\n"
     ]
    }
   ],
   "source": [
    "for dir in os.listdir(WORK_DIR):\n",
    "    instance_dir = os.path.join(WORK_DIR, dir)\n",
    "    make_plots(instance_dir)"
   ]
  },
  {
   "cell_type": "code",
   "execution_count": null,
   "metadata": {
    "collapsed": true
   },
   "outputs": [],
   "source": []
  },
  {
   "cell_type": "code",
   "execution_count": null,
   "metadata": {
    "collapsed": true
   },
   "outputs": [],
   "source": []
  }
 ],
 "metadata": {
  "kernelspec": {
   "display_name": "Python [conda root]",
   "language": "python",
   "name": "conda-root-py"
  },
  "language_info": {
   "codemirror_mode": {
    "name": "ipython",
    "version": 3
   },
   "file_extension": ".py",
   "mimetype": "text/x-python",
   "name": "python",
   "nbconvert_exporter": "python",
   "pygments_lexer": "ipython3",
   "version": "3.5.3"
  }
 },
 "nbformat": 4,
 "nbformat_minor": 2
}
